{
 "cells": [
  {
   "cell_type": "markdown",
   "metadata": {},
   "source": [
    "# Causal Structure Discovery and Inference"
   ]
  },
  {
   "cell_type": "markdown",
   "metadata": {},
   "source": [
    "## Abstract \n",
    "\n",
    "Causal Structure Discovery (CSD) is the problem of identifying causal relationships from large quantities of data through computational methods. Causality or Causation is defined as a relationship between two events, states, process or objects such that changes in one event, state, process or object lead to changes in another. In genral these events, states, process or objects are represented by variables such as X & Y. The key difference between association and causation lies in the potential of confounding. Suppose that no direct causal relationship exists between X and Y but rather a third variable Z causes both X and Y. In this case, even though X and Y are strongly associated, altering X will not lead to changes in Y. Z is called a confounder. In an experimental setup if intervening on a variable X leads changes to Y then causality can be established as X causes Y. However in the real world we cannot intervening on certain systems due to risk, cost or ethical reasons, e.g. climate, environment, biology etc. In systems like these studies are conducted purely based on observational data. Extracting causal structure through these observational while adjusting for confounding has been a challenge for many scientfic disciplines. Many machine learning methods have been proposed for this problem but they are largely based on associations. In this article we will explore the methods and challenges involved in CSD and also experiment regression based methods. "
   ]
  },
  {
   "cell_type": "markdown",
   "metadata": {},
   "source": [
    "## Introduction\n",
    "\n",
    "Causation is a direct effect between variable X and Y that remains after adjusting for confounding. Confounding can be observed or unobserved. Since the seventeeth century modern science, we have had two kinds of scientific methods for discovering causes. The first method involved manipulating and varying features of a system to see what other features do or donot change. While there are many experiments that fit this methods perhaps the most famous one is Pavlov's classical conditioning experiment, where is established a stimulus-response connection. These methods shone brightly but manipulating systems like live animals or environments are bounded by ethics and costs. The notiorious expriments like Tuskegee study and prision expreiments amoung others have shown us why the intervention methods are dengerous. The other methods involved observing the variation of features of system without manupulation. Some examples,   \n",
    "\n",
    "R.A Fisher's work on experimental design showed how randomizing break confounding, whether due to observed or un-observed common cause.\n"
   ]
  },
  {
   "cell_type": "code",
   "execution_count": null,
   "metadata": {},
   "outputs": [],
   "source": [
    "## Graphical causal models\n"
   ]
  },
  {
   "cell_type": "code",
   "execution_count": 4,
   "metadata": {},
   "outputs": [],
   "source": [
    "import networkx as nx\n",
    "import matplotlib.pyplot as plt"
   ]
  },
  {
   "cell_type": "code",
   "execution_count": 5,
   "metadata": {},
   "outputs": [
    {
     "data": {
      "image/png": "[encoded data removed]",
      "text/plain": [
       "<Figure size 432x288 with 1 Axes>"
      ]
     },
     "metadata": {},
     "output_type": "display_data"
    }
   ],
   "source": [
    "G = nx.DiGraph()\n",
    "nodes = {'a': \"Toronto\", 'b': \"London\", 'c': \"Berlin\", 'd': \"New York\"}\n",
    "edges = {('a', 'b'), ('a', 'c')}\n",
    "G.add_nodes_from(nodes)\n",
    "G.add_edges_from(edges)\n",
    "nx.draw(G, with_labels=True)"
   ]
  },
  {
   "cell_type": "markdown",
   "metadata": {},
   "source": [
    "graph models and meaning"
   ]
  },
  {
   "cell_type": "code",
   "execution_count": null,
   "metadata": {},
   "outputs": [],
   "source": []
  }
 ],
 "metadata": {
  "kernelspec": {
   "display_name": "Python 3",
   "language": "python",
   "name": "python3"
  },
  "language_info": {
   "codemirror_mode": {
    "name": "ipython",
    "version": 3
   },
   "file_extension": ".py",
   "mimetype": "text/x-python",
   "name": "python",
   "nbconvert_exporter": "python",
   "pygments_lexer": "ipython3",
   "version": "3.7.4"
  }
 },
 "nbformat": 4,
 "nbformat_minor": 4
}
